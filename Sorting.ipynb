{
 "cells": [
  {
   "cell_type": "markdown",
   "id": "7bf0be8e-b24d-4b77-81fc-8c2e3912ae0b",
   "metadata": {},
   "source": [
    "# sorting\n",
    "\n",
    "This notebook is used to sort through the listings from craigslist and identify those that mention parks in their description\n",
    "\n",
    "## step one: data description clean up\n",
    "### listings\n",
    "1. Load the listing data from the scraping notebook \n",
    "2. remove extra spaces and symbols and set the text to all lowercase. \n",
    "3. delete duplicate listings "
   ]
  },
  {
   "cell_type": "code",
   "execution_count": 298,
   "id": "594e9bc3-6ce6-4511-9aac-d627770e8f83",
   "metadata": {},
   "outputs": [],
   "source": [
    "listingsDf_trim = pd.read_pickle('combined_df.pkl')"
   ]
  },
  {
   "cell_type": "code",
   "execution_count": 299,
   "id": "091f606d-0155-4d6d-a823-3f1a1c5254bd",
   "metadata": {},
   "outputs": [],
   "source": [
    "import re\n",
    "\n",
    "def remove_and_clean(text):\n",
    "    text = re.sub((\"\\n\"), \" \", text)\n",
    "    text = text.lower()\n",
    "    return text\n",
    "\n",
    "listingsDf_trim['description'] = listingsDf_trim['description'].apply(remove_and_clean)"
   ]
  },
  {
   "cell_type": "code",
   "execution_count": 300,
   "id": "c110a53a-f499-4c49-bd6a-eb987498c1a1",
   "metadata": {},
   "outputs": [],
   "source": [
    "listingsDf_trim.drop_duplicates(subset='description', inplace=True)"
   ]
  },
  {
   "cell_type": "markdown",
   "id": "67bd20c5-6e70-4d4e-92ac-8b78afc19db1",
   "metadata": {},
   "source": [
    "## step two: start sorting\n",
    "\n",
    "we want to sort the listings to see insantances when parks are mentioned. to do so we:\n",
    ">- load a parks file from the county data hub with the names and loactions of all the parks in the county. \n",
    ">- create a list of neighborhoods in Los Angeles that are named after parks to exclude from our \"parks_True\" category\n",
    ">- create a list of words that allude to parks to inlcude in our \"parks_True\" category\n",
    ">- make a function that will read through all the descriptions and identify those that mention a park. the function will identify the listings that mention a park by putting a \"true\" vlaue in a new column Park_TF.\n",
    ">- compliment the above fonction with another that will identify what in the decription that flagged it as mentioning a park. this was mainly used to check work. \n",
    ">- check and see what we are capturing with a count of the numebr of listing with parks mentioend using value counts"
   ]
  },
  {
   "cell_type": "code",
   "execution_count": 301,
   "id": "ccd203b4-e81d-463b-872a-a43a5f2c518c",
   "metadata": {
    "tags": []
   },
   "outputs": [
    {
     "data": {
      "text/html": [
       "<div>\n",
       "<style scoped>\n",
       "    .dataframe tbody tr th:only-of-type {\n",
       "        vertical-align: middle;\n",
       "    }\n",
       "\n",
       "    .dataframe tbody tr th {\n",
       "        vertical-align: top;\n",
       "    }\n",
       "\n",
       "    .dataframe thead th {\n",
       "        text-align: right;\n",
       "    }\n",
       "</style>\n",
       "<table border=\"1\" class=\"dataframe\">\n",
       "  <thead>\n",
       "    <tr style=\"text-align: right;\">\n",
       "      <th></th>\n",
       "      <th>OBJECTID</th>\n",
       "      <th>UNIT_ID</th>\n",
       "      <th>LMS_ID</th>\n",
       "      <th>PARK_NAME</th>\n",
       "      <th>PARK_LBL</th>\n",
       "      <th>ACCESS_TYP</th>\n",
       "      <th>RPT_ACRES</th>\n",
       "      <th>GIS_ACRES</th>\n",
       "      <th>AGNCY_NAME</th>\n",
       "      <th>AGNCY_LEV</th>\n",
       "      <th>...</th>\n",
       "      <th>CENTER_LON</th>\n",
       "      <th>ADDRESS</th>\n",
       "      <th>CITY</th>\n",
       "      <th>ZIP</th>\n",
       "      <th>HOURS</th>\n",
       "      <th>PHONES</th>\n",
       "      <th>IS_COUNTY</th>\n",
       "      <th>Shape__Area</th>\n",
       "      <th>Shape__Length</th>\n",
       "      <th>geometry</th>\n",
       "    </tr>\n",
       "  </thead>\n",
       "  <tbody>\n",
       "    <tr>\n",
       "      <th>118</th>\n",
       "      <td>119</td>\n",
       "      <td>2996.0</td>\n",
       "      <td>23619.0</td>\n",
       "      <td>Kuns Park</td>\n",
       "      <td>Kuns Park</td>\n",
       "      <td>Open Access</td>\n",
       "      <td>2.362</td>\n",
       "      <td>2.362307</td>\n",
       "      <td>La Verne, City of</td>\n",
       "      <td>City</td>\n",
       "      <td>...</td>\n",
       "      <td>-117.778044</td>\n",
       "      <td>1600 Bonita Ave</td>\n",
       "      <td>La Verne</td>\n",
       "      <td>91750</td>\n",
       "      <td>NaN</td>\n",
       "      <td>NaN</td>\n",
       "      <td>No</td>\n",
       "      <td>102901.676758</td>\n",
       "      <td>1285.292634</td>\n",
       "      <td>POLYGON ((-117.77736 34.10445, -117.77766 34.10367, -117.77875 34.10395, -117.77846 34.10473, -117.77841 34.10472, -117.77736 34.10445))</td>\n",
       "    </tr>\n",
       "    <tr>\n",
       "      <th>1201</th>\n",
       "      <td>1202</td>\n",
       "      <td>7281.0</td>\n",
       "      <td>NaN</td>\n",
       "      <td>Pamplico Park</td>\n",
       "      <td>Pamplico Park</td>\n",
       "      <td>Open Access</td>\n",
       "      <td>7.583</td>\n",
       "      <td>7.582048</td>\n",
       "      <td>Santa Clarita, City of</td>\n",
       "      <td>City</td>\n",
       "      <td>...</td>\n",
       "      <td>-118.527578</td>\n",
       "      <td>22444 Pamplico Dr</td>\n",
       "      <td>Santa Clarita</td>\n",
       "      <td>91350</td>\n",
       "      <td>NaN</td>\n",
       "      <td>NaN</td>\n",
       "      <td>No</td>\n",
       "      <td>330272.678711</td>\n",
       "      <td>2349.981665</td>\n",
       "      <td>POLYGON ((-118.52680 34.45165, -118.52676 34.45165, -118.52670 34.45165, -118.52666 34.45165, -118.52659 34.45165, -118.52659 34.45164, -118.52660 34.45123, -118.52660 34.45120, -118.52660 34.45118, -118.52660 34.45115, -118.52660 34.45113, -118.52661 34.45111, -118.52661 34.45109, -118.52660 34.45106, -118.52662 34.45104, -118.52661 34.45102, -118.52663 34.45100, -118.52662 34.45097, -118.52664 34.45095, -118.52663 34.45092, -118.52665 34.45091, -118.52666 34.45089, -118.52666 34.45086, -118.52667 34.45084, -118.52668 34.45083, -118.52669 34.45080, -118.52670 34.45078, -118.52671 34.45076, -118.52672 34.45073, -118.52673 34.45072, -118.52674 34.45070, -118.52675 34.45067, -118.52676 34.45065, -118.52677 34.45063, -118.52678 34.45062, -118.52680 34.45060, -118.52752 34.44954, -118.52790 34.44970, -118.52812 34.44980, -118.52850 34.44995, -118.52871 34.45004, -118.52881 34.45009, -118.52771 34.45187, -118.52766 34.45185, -118.52762 34.45183, -118.52758 34.45181, -118.52752 34.45181, -118.52748 34.45179, -118.52743 34.45177, -118.52740 34.45176, -118.52739 34.45176, -118.52734 34.45175, -118.52729 34.45174, -118.52728 34.45174, -118.52724 34.45173, -118.52719 34.45171, -118.52715 34.45170, -118.52710 34.45169, -118.52705 34.45169, -118.52701 34.45168, -118.52695 34.45167, -118.52690 34.45167, -118.52686 34.45166, -118.52680 34.45165))</td>\n",
       "    </tr>\n",
       "  </tbody>\n",
       "</table>\n",
       "<p>2 rows × 53 columns</p>\n",
       "</div>"
      ],
      "text/plain": [
       "      OBJECTID  UNIT_ID   LMS_ID      PARK_NAME       PARK_LBL   ACCESS_TYP  \\\n",
       "118        119   2996.0  23619.0      Kuns Park      Kuns Park  Open Access   \n",
       "1201      1202   7281.0      NaN  Pamplico Park  Pamplico Park  Open Access   \n",
       "\n",
       "      RPT_ACRES  GIS_ACRES              AGNCY_NAME AGNCY_LEV  ...  CENTER_LON  \\\n",
       "118       2.362   2.362307       La Verne, City of      City  ... -117.778044   \n",
       "1201      7.583   7.582048  Santa Clarita, City of      City  ... -118.527578   \n",
       "\n",
       "                ADDRESS           CITY    ZIP HOURS PHONES IS_COUNTY  \\\n",
       "118     1600 Bonita Ave       La Verne  91750   NaN    NaN        No   \n",
       "1201  22444 Pamplico Dr  Santa Clarita  91350   NaN    NaN        No   \n",
       "\n",
       "        Shape__Area Shape__Length  \\\n",
       "118   102901.676758   1285.292634   \n",
       "1201  330272.678711   2349.981665   \n",
       "\n",
       "                                                                                                                                                                                                                                                                                                                                                                                                                                                                                                                                                                                                                                                                                                                                                                                                                                                                                                                                                                                                                                                                                                                                                                                                                                                                                                                                                                                                        geometry  \n",
       "118                                                                                                                                                                                                                                                                                                                                                                                                                                                                                                                                                                                                                                                                                                                                                                                                                                                                                                                                                                                                                                                                                                                                                                                                                                                                     POLYGON ((-117.77736 34.10445, -117.77766 34.10367, -117.77875 34.10395, -117.77846 34.10473, -117.77841 34.10472, -117.77736 34.10445))  \n",
       "1201  POLYGON ((-118.52680 34.45165, -118.52676 34.45165, -118.52670 34.45165, -118.52666 34.45165, -118.52659 34.45165, -118.52659 34.45164, -118.52660 34.45123, -118.52660 34.45120, -118.52660 34.45118, -118.52660 34.45115, -118.52660 34.45113, -118.52661 34.45111, -118.52661 34.45109, -118.52660 34.45106, -118.52662 34.45104, -118.52661 34.45102, -118.52663 34.45100, -118.52662 34.45097, -118.52664 34.45095, -118.52663 34.45092, -118.52665 34.45091, -118.52666 34.45089, -118.52666 34.45086, -118.52667 34.45084, -118.52668 34.45083, -118.52669 34.45080, -118.52670 34.45078, -118.52671 34.45076, -118.52672 34.45073, -118.52673 34.45072, -118.52674 34.45070, -118.52675 34.45067, -118.52676 34.45065, -118.52677 34.45063, -118.52678 34.45062, -118.52680 34.45060, -118.52752 34.44954, -118.52790 34.44970, -118.52812 34.44980, -118.52850 34.44995, -118.52871 34.45004, -118.52881 34.45009, -118.52771 34.45187, -118.52766 34.45185, -118.52762 34.45183, -118.52758 34.45181, -118.52752 34.45181, -118.52748 34.45179, -118.52743 34.45177, -118.52740 34.45176, -118.52739 34.45176, -118.52734 34.45175, -118.52729 34.45174, -118.52728 34.45174, -118.52724 34.45173, -118.52719 34.45171, -118.52715 34.45170, -118.52710 34.45169, -118.52705 34.45169, -118.52701 34.45168, -118.52695 34.45167, -118.52690 34.45167, -118.52686 34.45166, -118.52680 34.45165))  \n",
       "\n",
       "[2 rows x 53 columns]"
      ]
     },
     "execution_count": 301,
     "metadata": {},
     "output_type": "execute_result"
    }
   ],
   "source": [
    "import geopandas as gpd\n",
    "\n",
    "parks = gpd.read_file('county_parks.geojson')\n",
    "parks.sample(2)"
   ]
  },
  {
   "cell_type": "markdown",
   "id": "80186215-fc72-4509-947d-2c674d81ecd8",
   "metadata": {},
   "source": [
    "There are a bunch of neighborhoods (and transit stations) in Los Angeles that are named after a park.. tricky. We wanted to take these listings out and any terms luxury developers use to reffer to their ammenities that aren't public (for example \"rooftop park\") this process of identifying terms required a lot of trial and errror to read through sample posts and identify trends"
   ]
  },
  {
   "cell_type": "code",
   "execution_count": 302,
   "id": "12ac9b65-f958-4a33-9f61-a0cf69ad3d56",
   "metadata": {},
   "outputs": [],
   "source": [
    "excluded = ['highland park',\n",
    "           'hancock park',\n",
    "           'echo park and silverlake',\n",
    "            'echo park',\n",
    "            'silverlake and echo park',\n",
    "            'silverlake, echo park',\n",
    "            'echo park, silverlake',\n",
    "           'rancho park',\n",
    "           'macarthur park station',\n",
    "           'south park',\n",
    "           'rooftop park',\n",
    "           'hollywood bowl']"
   ]
  },
  {
   "cell_type": "markdown",
   "id": "45e12634-5527-4daa-973c-cb58f451d8a2",
   "metadata": {},
   "source": [
    "There are some listings that allude to a park or many parks without naming the exact one. We wanted ot inlcude those listings in our analysis so we created a list of terms that allude to parks called \"park_terms\". This is also a little tricky becuase you want to avoid counting anything that is referring to parking. "
   ]
  },
  {
   "cell_type": "code",
   "execution_count": 303,
   "id": "6eef33aa-4375-4a20-b087-53af5e7acfce",
   "metadata": {},
   "outputs": [],
   "source": [
    "park_terms = ['hike', \n",
    "                'hiking',\n",
    "                'trail', \n",
    "                'trails', \n",
    "                'community park',\n",
    "                'community parks', \n",
    "                'local park',\n",
    "                'local parks',\n",
    "                 'parks nearby',\n",
    "                'public parks',\n",
    "                'public park',\n",
    "                'echo park lake',\n",
    "                'park access',\n",
    "                'parks',\n",
    "              'recreational parks',\n",
    "              'a park nearby',\n",
    "              'the park',\n",
    "              'park nearby',\n",
    "              'griffith park',\n",
    "              'exposition park',\n",
    "              'recreation center',\n",
    "              'rergional park',\n",
    "              'griffith park,'\n",
    "                 ]"
   ]
  },
  {
   "cell_type": "markdown",
   "id": "9e0f720c-17d5-46ee-872d-e9be5342e7a8",
   "metadata": {},
   "source": [
    "This function reads descriptions and makes every listing that has a park name from the parks data file \"true\" unless its one of the excluded terms for neigborhoods named after parks ie highland park, then adds all the posts that have one of the park terms as true."
   ]
  },
  {
   "cell_type": "code",
   "execution_count": null,
   "id": "c3d80b0c-50b0-41d5-8b43-e7e39afcd982",
   "metadata": {},
   "outputs": [],
   "source": [
    "listingsDf_trim['park_TF'] = listingsDf_trim['description'].apply(\n",
    "    lambda x: any(substring in x for substring in parks['PARK_NAME'].str.lower()) and not any(substring in x for substring in excluded)or any(substring in x for substring in park_terms))"
   ]
  },
  {
   "cell_type": "markdown",
   "id": "c5a99fe9-74b2-435b-8712-a500823dffa5",
   "metadata": {},
   "source": [
    "We also want to know why the function named the listing true so we added another column called park_T_why which fills in the terms that flagged the description as mentioning a park"
   ]
  },
  {
   "cell_type": "markdown",
   "id": "c93adb38-c3e7-4c6e-bb19-8a3ab40d2622",
   "metadata": {},
   "source": [
    "## step three: look at what we found\n",
    "\n",
    ">- compliment the above fonction with another that will identify what in the decription that flagged it as mentioning a park. this was mainly used to check work. \n",
    ">- check and see what we are capturing with a count of the numebr of listing with parks mentioend using value counts\n",
    ">- look at a sample of the listings that were flagged as true and make sure it makes sense\n",
    ">- map the listings to see what it looks like on a map\n",
    ">- export sorted listings for futher analysis"
   ]
  },
  {
   "cell_type": "code",
   "execution_count": null,
   "id": "609d8cf8-7437-4eaa-affc-61389a9a1d8e",
   "metadata": {},
   "outputs": [],
   "source": [
    "listingsDf_trim['park_T_why'] = listingsDf_trim['description'].apply(\n",
    "    lambda x: [substring for substring in parks['PARK_NAME'].str.lower() if substring in x and substring not in excluded] or [substring for substring in park_terms if substring in x]\n",
    ")"
   ]
  },
  {
   "cell_type": "code",
   "execution_count": null,
   "id": "98c28310-0e1d-4b0e-9406-bce1bfd8dc5d",
   "metadata": {},
   "outputs": [],
   "source": [
    "listingsDf_trim.park_TF.value_counts()"
   ]
  },
  {
   "cell_type": "code",
   "execution_count": null,
   "id": "bc45885a-e66c-443b-8f85-2bd8972d44a8",
   "metadata": {},
   "outputs": [],
   "source": [
    "listsingsDf_trim_parks = listingsDf_trim[listingsDf_trim['park_TF'] == True]\n",
    "pd.set_option('max_colwidth', None)\n",
    "listsingsDf_trim_parks[['description', 'park_T_why']].head()"
   ]
  },
  {
   "cell_type": "code",
   "execution_count": null,
   "id": "15e8a138-b919-40a5-92de-6e070ca3629f",
   "metadata": {},
   "outputs": [],
   "source": [
    "listingsDf_trim = listingsDf_trim[listingsDf_trim['lat'] != 'NA']\n",
    "gdf = gpd.GeoDataFrame(listingsDf_trim, geometry=gpd.points_from_xy(listingsDf_trim.long, listingsDf_trim.lat), crs=\"EPSG:4326\")"
   ]
  },
  {
   "cell_type": "code",
   "execution_count": null,
   "id": "6beb14a8-0b79-44aa-8402-e763b252c61e",
   "metadata": {},
   "outputs": [],
   "source": [
    "# import libraries\n",
    "import plotly.express as px\n",
    "import matplotlib.pyplot as plt\n",
    "\n",
    "\n",
    "# create scatter map\n",
    "fig = px.scatter_mapbox(gdf, \n",
    "                        lat=test.geometry.y, \n",
    "                        lon=test.geometry.x, \n",
    "                        color=\"park_TF\",\n",
    "                        mapbox_style=\"carto-positron\",\n",
    "                        zoom=9,\n",
    "                        center = {\"lat\": 34, \"lon\": -118.4},\n",
    "                        opacity=.8,\n",
    "                        color_discrete_sequence=px.colors.qualitative.Vivid,\n",
    "                        hover_data={\"park_T_why\": True}\n",
    "                       )\n",
    "                               \n",
    "\n",
    "# options on the layout\n",
    "fig.update_layout(\n",
    "        width = 900,\n",
    "        height = 700,\n",
    "        title = \"Listings\",\n",
    "        title_x = .5\n",
    "    )\n",
    "\n",
    "fig.update_traces(\n",
    "    hovertemplate=\"Park mentioned: %{customdata[0]}<extra></extra>\"\n",
    ")\n",
    "\n",
    "fig.update_layout(legend_title_text=\"Park Mentioned\")\n",
    "\n",
    "fig.show()"
   ]
  },
  {
   "cell_type": "code",
   "execution_count": null,
   "id": "45c37955-8de2-4b15-bcac-de6ecf2c91b5",
   "metadata": {},
   "outputs": [],
   "source": [
    "listingsDf_trim.to_pickle(\"./listings_sorted.pkl\")"
   ]
  }
 ],
 "metadata": {
  "kernelspec": {
   "display_name": "Python 3 (ipykernel)",
   "language": "python",
   "name": "python3"
  },
  "language_info": {
   "codemirror_mode": {
    "name": "ipython",
    "version": 3
   },
   "file_extension": ".py",
   "mimetype": "text/x-python",
   "name": "python",
   "nbconvert_exporter": "python",
   "pygments_lexer": "ipython3",
   "version": "3.10.10"
  }
 },
 "nbformat": 4,
 "nbformat_minor": 5
}
